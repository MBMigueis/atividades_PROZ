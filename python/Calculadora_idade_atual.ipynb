{
  "nbformat": 4,
  "nbformat_minor": 0,
  "metadata": {
    "colab": {
      "provenance": [],
      "authorship_tag": "ABX9TyOoAxn4ScaFCWcPoaKz9PVs",
      "include_colab_link": true
    },
    "kernelspec": {
      "name": "python3",
      "display_name": "Python 3"
    },
    "language_info": {
      "name": "python"
    }
  },
  "cells": [
    {
      "cell_type": "markdown",
      "metadata": {
        "id": "view-in-github",
        "colab_type": "text"
      },
      "source": [
        "<a href=\"https://colab.research.google.com/github/MBMigueis/Projetos_PROZ/blob/main/Calculadora_idade_atual.ipynb\" target=\"_parent\"><img src=\"https://colab.research.google.com/assets/colab-badge.svg\" alt=\"Open In Colab\"/></a>"
      ]
    },
    {
      "cell_type": "code",
      "execution_count": null,
      "metadata": {
        "id": "hvvXRM0Ggi5k"
      },
      "outputs": [],
      "source": [
        "# Desenvolva um programa que recebe do usuário nome completo e ano de nascimento que seja entre 1922 e 2021.\n",
        "\n",
        "# A partir dessas informações, o sistema mostrará o nome do usuário e a idade que completou, ou completará, no ano atual (2024).\n",
        "\n",
        "# Caso o usuário não digite um número ou apareça um inválido no campo do ano, o sistema informará o erro e continuará perguntando até que um valor correto seja preenchido.\n",
        "\n",
        "import datetime\n",
        "\n",
        "def calcular_idade():\n",
        "    while True:\n",
        "        nome = input(\"Digite seu nome completo: \")\n",
        "\n",
        "        while True:\n",
        "            try:\n",
        "                ano_nascimento = int(input(\"Digite seu ano de nascimento (entre 1922 e 2021): \"))\n",
        "                if 1922 <= ano_nascimento <= 2021:\n",
        "                    break\n",
        "                else:\n",
        "                    print(\"Ano de nascimento inválido. Digite um ano entre 1922 e 2021.\")\n",
        "            except ValueError:\n",
        "                print(\"Digite um ano válido (apenas números).\")\n",
        "\n",
        "        ano_atual = datetime.datetime.now().year\n",
        "        idade = ano_atual - ano_nascimento\n",
        "\n",
        "        print(f\"{nome}, você completou ou completará {idade} anos em {ano_atual}.\")\n",
        "\n",
        "calcular_idade()"
      ]
    }
  ]
}