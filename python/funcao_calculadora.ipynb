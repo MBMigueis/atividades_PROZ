{
  "nbformat": 4,
  "nbformat_minor": 0,
  "metadata": {
    "colab": {
      "provenance": [],
      "authorship_tag": "ABX9TyPQsHRsvJycd7AiRJM51blD",
      "include_colab_link": true
    },
    "kernelspec": {
      "name": "python3",
      "display_name": "Python 3"
    },
    "language_info": {
      "name": "python"
    }
  },
  "cells": [
    {
      "cell_type": "markdown",
      "metadata": {
        "id": "view-in-github",
        "colab_type": "text"
      },
      "source": [
        "<a href=\"https://colab.research.google.com/github/MBMigueis/Projetos_PROZ/blob/main/funcao_calculadora.ipynb\" target=\"_parent\"><img src=\"https://colab.research.google.com/assets/colab-badge.svg\" alt=\"Open In Colab\"/></a>"
      ]
    },
    {
      "cell_type": "markdown",
      "source": [
        "Faça uma função calculadora de dois números com três parâmetros: os dois primeiros serão os números da operação e o terceiro será a entrada que definirá a operação a ser executada. Considera a seguinte definição:\n",
        "1. Soma\n",
        "2. Subtração\n",
        "3. Multiplicação\n",
        "4. Divisão\n",
        "\n",
        "Caso seja inserido um número de operação que não exista, o resultado deverá ser 0."
      ],
      "metadata": {
        "id": "ZREfIxyhEfm0"
      }
    },
    {
      "cell_type": "code",
      "source": [
        "def calculadora(num1, num2, operacao):\n",
        "    if operacao == '+':\n",
        "        return num1 + num2\n",
        "    elif operacao == '-':\n",
        "        return num1 - num2\n",
        "    elif operacao == '*':\n",
        "        return num1 * num2\n",
        "    elif operacao == '/':\n",
        "        if num2 == 0:\n",
        "            return \"Divisão por zero não é permitida.\"\n",
        "        else:\n",
        "            return num1 / num2\n",
        "    else:\n",
        "        return \"Operação inválida. Use +, -, * ou /.\"\n",
        "\n",
        "while True:\n",
        "    try:\n",
        "        num1 = float(input(\"Digite o primeiro número: \"))\n",
        "        operacao = input(\"Digite a operação (+, -, *, /): \")\n",
        "        num2 = float(input(\"Digite o segundo número: \"))\n",
        "        break\n",
        "    except ValueError:\n",
        "        print(\"Por favor, insira números válidos e uma operação válida (+, -, *, /).\")\n",
        "\n",
        "resultado = calculadora(num1, num2, operacao)\n",
        "print(\"Resultado:\", resultado)"
      ],
      "metadata": {
        "id": "S3Js6gj5KF7h"
      },
      "execution_count": null,
      "outputs": []
    }
  ]
}