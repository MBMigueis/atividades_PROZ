{
  "nbformat": 4,
  "nbformat_minor": 0,
  "metadata": {
    "colab": {
      "provenance": [],
      "authorship_tag": "ABX9TyOsEYeKFAA9TPIE3LOM8R2N",
      "include_colab_link": true
    },
    "kernelspec": {
      "name": "python3",
      "display_name": "Python 3"
    },
    "language_info": {
      "name": "python"
    }
  },
  "cells": [
    {
      "cell_type": "markdown",
      "metadata": {
        "id": "view-in-github",
        "colab_type": "text"
      },
      "source": [
        "<a href=\"https://colab.research.google.com/github/MBMigueis/Projetos_PROZ/blob/main/funcao_calc_loop.ipynb\" target=\"_parent\"><img src=\"https://colab.research.google.com/assets/colab-badge.svg\" alt=\"Open In Colab\"/></a>"
      ]
    },
    {
      "cell_type": "code",
      "execution_count": null,
      "metadata": {
        "id": "w6I2PneXj6_h"
      },
      "outputs": [],
      "source": [
        "# Faça uma função calculadora que os números e as operações serão feitas pelo usuário. O código deve ficar rodando infinitamente até que o usuário escolha a opção de sair. No início, o programa mostrará a seguinte lista de operações:\n",
        "\"\"\"\n",
        "1: Soma\n",
        "2: Subtração\n",
        "3: Multiplicação\n",
        "4: Divisão\n",
        "0: Sair\n",
        "\"\"\"\n",
        "# Digite o número para a operação correspondente e caso o usuário introduza qualquer outro, o sistema deve mostrar a mensagem “Essa opção não existe” e voltar ao menu de opções.\n",
        "\n",
        "# Após a seleção, o sistema deve pedir para o usuário inserir o primeiro e segundo valor, um de cada. Depois precisa executar a operação e mostrar o resultado na tela. Quando o usuário escolher a opção “Sair”, o sistema irá parar.\n",
        "\n",
        "# É necessário que o sistema mostre as opções sempre que finalizar uma operação e mostrar o resultado.\n",
        "\n",
        "\n",
        "def calculadora():\n",
        "    while True:\n",
        "        print(\"Escolha a operação desejada:\")\n",
        "        print(\"1: Soma\")\n",
        "        print(\"2: Subtração\")\n",
        "        print(\"3: Multiplicação\")\n",
        "        print(\"4: Divisão\")\n",
        "        print(\"0: Sair\")\n",
        "\n",
        "        opcao = int(input(\"Digite o número da operação: \"))\n",
        "\n",
        "        if opcao == 0:\n",
        "            print(\"Saindo da calculadora...\")\n",
        "            break\n",
        "\n",
        "        if opcao not in range(1, 5):\n",
        "            print(\"Essa opção não existe.\")\n",
        "            continue\n",
        "\n",
        "        num1 = float(input(\"Digite o primeiro número: \"))\n",
        "        num2 = float(input(\"Digite o segundo número: \"))\n",
        "\n",
        "        if opcao == 1:\n",
        "            resultado = num1 + num2\n",
        "        elif opcao == 2:\n",
        "            resultado = num1 - num2\n",
        "        elif opcao == 3:\n",
        "            resultado = num1 * num2\n",
        "        else:\n",
        "            if num2 == 0:\n",
        "                print(\"Divisão por zero não é permitida.\")\n",
        "            else:\n",
        "                resultado = num1 / num2\n",
        "\n",
        "        print(\"Resultado:\", resultado)\n",
        "        print()\n",
        "\n",
        "calculadora()"
      ]
    }
  ]
}